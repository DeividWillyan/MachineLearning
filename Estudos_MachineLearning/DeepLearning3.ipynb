{
 "cells": [
  {
   "cell_type": "markdown",
   "metadata": {},
   "source": [
    "Dataset com base https://www.kaggle.com/thedownhill/art-images-drawings-painting-sculpture-engraving/home\n",
    "\n",
    "Context: \n",
    "Dataset for classifying different styles of art. Main categories have been taken here<br>\n",
    "Content: \n",
    "5 kinds of data downloaded from google images, yandex images and this site:\n",
    "\n",
    "Drawings and watercolours<br>\n",
    "Works of painting<br>\n",
    "Sculpture<br>\n",
    "Graphic Art<br>\n",
    "Iconography (old Russian art)<br>\n",
    "\n",
    "\n",
    "Data is separated on training and validation sets"
   ]
  },
  {
   "cell_type": "code",
   "execution_count": 1,
   "metadata": {},
   "outputs": [
    {
     "name": "stderr",
     "output_type": "stream",
     "text": [
      "Using TensorFlow backend.\n"
     ]
    }
   ],
   "source": [
    "from keras.models import Sequential\n",
    "from keras.layers import Dense, Flatten, Conv2D, MaxPooling2D\n",
    "from keras.preprocessing.image import ImageDataGenerator, array_to_img, img_to_array, load_img\n",
    "import os, shutil\n",
    "import cv2\n",
    "import numpy as np\n",
    "import matplotlib.pyplot as plt\n",
    "import tensorflow as tf\n",
    "from collections import Counter\n",
    "import keras\n",
    "from keras.utils import to_categorical"
   ]
  },
  {
   "cell_type": "code",
   "execution_count": 22,
   "metadata": {},
   "outputs": [],
   "source": [
    "IMG_SIZE = 100"
   ]
  },
  {
   "cell_type": "code",
   "execution_count": 23,
   "metadata": {},
   "outputs": [],
   "source": [
    "# filtro do erro para não exibir\n",
    "import warnings\n",
    "warnings.filterwarnings(\"ignore\", \"(Possibly )?corrupt EXIF data\", UserWarning)\n",
    "\n",
    "base_dir = './dataset'\n",
    "\n",
    "train_dir = os.path.join(base_dir, 'training_set')\n",
    "validation_dir = os.path.join(base_dir, 'validation_set')\n",
    "\n",
    "# criando os rotulos\n",
    "labels = [x for x in os.listdir(train_dir)]\n",
    "\n",
    "from PIL import Image\n",
    "\n",
    "os.mkdir(os.path.join(base_dir, 'training_set_convert'))\n",
    "os.mkdir(os.path.join(base_dir, 'validation_set_convert'))\n",
    "train_dir_convert = os.path.join(base_dir, 'training_set_convert')\n",
    "validation_dir_convert = os.path.join(base_dir, 'validation_set_convert')\n",
    "\n",
    "for i in labels:\n",
    "    os.mkdir(os.path.join(train_dir_convert, i))\n",
    "    os.mkdir(os.path.join(validation_dir_convert, i))\n",
    "\n",
    "for i in labels:\n",
    "    _dir = os.path.join(train_dir, i)\n",
    "    _dir_conv = os.path.join(train_dir_convert, i)\n",
    "    for x in os.listdir(_dir):\n",
    "        try:\n",
    "            img = Image.open(os.path.join(_dir, x))\n",
    "            img = img.resize((IMG_SIZE,IMG_SIZE), Image.ANTIALIAS)\n",
    "            img.save(os.path.join(_dir_conv, x))\n",
    "        except Exception:\n",
    "            pass\n",
    "\n",
    "for i in labels:\n",
    "    _dir = os.path.join(validation_dir, i)\n",
    "    _dir_conv = os.path.join(validation_dir_convert, i)\n",
    "    for x in os.listdir(_dir):\n",
    "        try:\n",
    "            img = Image.open(os.path.join(_dir, x))\n",
    "            img = img.resize((IMG_SIZE,IMG_SIZE), Image.ANTIALIAS)\n",
    "            img.save(os.path.join(_dir_conv, x))\n",
    "        except (Exception, UserWarning):\n",
    "            pass\n"
   ]
  },
  {
   "cell_type": "code",
   "execution_count": 24,
   "metadata": {
    "scrolled": true
   },
   "outputs": [
    {
     "name": "stdout",
     "output_type": "stream",
     "text": [
      "Found 7718 images belonging to 5 classes.\n",
      "Found 856 images belonging to 5 classes.\n"
     ]
    }
   ],
   "source": [
    "batch_size = 20\n",
    "\n",
    "train_datagen = ImageDataGenerator(\n",
    "        rescale=1./255,\n",
    "        shear_range=0.1,\n",
    "        zoom_range=0.1,\n",
    "        horizontal_flip=True)\n",
    "\n",
    "test_datagen = ImageDataGenerator(rescale=1./255)\n",
    "\n",
    "train_dir = train_dir_convert\n",
    "validation_dir = validation_dir_convert\n",
    "\n",
    "train_generator = train_datagen.flow_from_directory(train_dir, \n",
    "                                                    target_size=(IMG_SIZE,IMG_SIZE), \n",
    "                                                    batch_size=batch_size, \n",
    "                                                    class_mode='categorical')\n",
    "\n",
    "validation_generator = test_datagen.flow_from_directory(validation_dir, \n",
    "                                                              target_size=(IMG_SIZE,IMG_SIZE), \n",
    "                                                              batch_size=batch_size, \n",
    "                                                              class_mode='categorical')\n",
    "            "
   ]
  },
  {
   "cell_type": "code",
   "execution_count": 25,
   "metadata": {},
   "outputs": [
    {
     "name": "stdout",
     "output_type": "stream",
     "text": [
      "_________________________________________________________________\n",
      "Layer (type)                 Output Shape              Param #   \n",
      "=================================================================\n",
      "conv2d_7 (Conv2D)            (None, 98, 98, 32)        896       \n",
      "_________________________________________________________________\n",
      "max_pooling2d_7 (MaxPooling2 (None, 49, 49, 32)        0         \n",
      "_________________________________________________________________\n",
      "conv2d_8 (Conv2D)            (None, 47, 47, 64)        18496     \n",
      "_________________________________________________________________\n",
      "max_pooling2d_8 (MaxPooling2 (None, 23, 23, 64)        0         \n",
      "_________________________________________________________________\n",
      "flatten_4 (Flatten)          (None, 33856)             0         \n",
      "_________________________________________________________________\n",
      "dense_7 (Dense)              (None, 128)               4333696   \n",
      "_________________________________________________________________\n",
      "dense_8 (Dense)              (None, 5)                 645       \n",
      "=================================================================\n",
      "Total params: 4,353,733\n",
      "Trainable params: 4,353,733\n",
      "Non-trainable params: 0\n",
      "_________________________________________________________________\n"
     ]
    }
   ],
   "source": [
    "model = Sequential()\n",
    "model.add(Conv2D(32, kernel_size=(3, 3), input_shape=(IMG_SIZE, IMG_SIZE, 3), activation='relu'))\n",
    "model.add(MaxPooling2D(pool_size=(2, 2)))\n",
    "model.add(Conv2D(64, kernel_size=(3, 3), activation='relu'))\n",
    "model.add(MaxPooling2D(pool_size=(2, 2)))\n",
    "model.add(Flatten())\n",
    "model.add(Dense(128, activation='relu'))\n",
    "model.add(Dense(5, activation='softmax'))\n",
    "\n",
    "model.summary()"
   ]
  },
  {
   "cell_type": "code",
   "execution_count": 26,
   "metadata": {},
   "outputs": [
    {
     "name": "stdout",
     "output_type": "stream",
     "text": [
      "Epoch 1/10\n",
      "310/390 [======================>.......] - ETA: 37s - loss: 0.9079 - acc: 0.6590"
     ]
    },
    {
     "name": "stderr",
     "output_type": "stream",
     "text": [
      "E:\\Anaconda3\\envs\\tensorflow\\lib\\site-packages\\PIL\\Image.py:953: UserWarning: Palette images with Transparency   expressed in bytes should be converted to RGBA images\n",
      "  'to RGBA images')\n"
     ]
    },
    {
     "name": "stdout",
     "output_type": "stream",
     "text": [
      "391/390 [==============================] - 185s 473ms/step - loss: 0.8657 - acc: 0.6773 - val_loss: 0.6299 - val_acc: 0.7745\n",
      "Epoch 2/10\n",
      "391/390 [==============================] - 181s 462ms/step - loss: 0.6140 - acc: 0.7828 - val_loss: 0.6697 - val_acc: 0.7512\n",
      "Epoch 3/10\n",
      "391/390 [==============================] - 184s 469ms/step - loss: 0.5200 - acc: 0.8092 - val_loss: 0.5961 - val_acc: 0.7769\n",
      "Epoch 4/10\n",
      "391/390 [==============================] - 180s 461ms/step - loss: 0.4546 - acc: 0.8326 - val_loss: 0.5048 - val_acc: 0.8166\n",
      "Epoch 5/10\n",
      "391/390 [==============================] - 181s 463ms/step - loss: 0.4112 - acc: 0.8511 - val_loss: 0.5222 - val_acc: 0.8096\n",
      "Epoch 6/10\n",
      "391/390 [==============================] - 183s 467ms/step - loss: 0.3607 - acc: 0.8644 - val_loss: 0.4923 - val_acc: 0.8119\n",
      "Epoch 7/10\n",
      "391/390 [==============================] - 181s 463ms/step - loss: 0.3152 - acc: 0.8821 - val_loss: 0.5373 - val_acc: 0.8178\n",
      "Epoch 8/10\n",
      "391/390 [==============================] - 181s 462ms/step - loss: 0.2928 - acc: 0.8977 - val_loss: 0.5502 - val_acc: 0.8049\n",
      "Epoch 9/10\n",
      "391/390 [==============================] - 185s 474ms/step - loss: 0.2675 - acc: 0.9035 - val_loss: 0.6347 - val_acc: 0.7862\n",
      "Epoch 10/10\n",
      "391/390 [==============================] - 181s 462ms/step - loss: 0.2255 - acc: 0.9164 - val_loss: 0.4984 - val_acc: 0.8318\n"
     ]
    }
   ],
   "source": [
    "model.compile(loss='categorical_crossentropy', optimizer='adam', metrics=['accuracy'])\n",
    "\n",
    "history = model.fit_generator(\n",
    "    train_generator,\n",
    "    steps_per_epoch=7818/batch_size, \n",
    "    epochs=10, \n",
    "    validation_data=validation_generator, \n",
    "    validation_steps=856/batch_size)"
   ]
  },
  {
   "cell_type": "code",
   "execution_count": 27,
   "metadata": {},
   "outputs": [],
   "source": [
    "def tratar_img(img):\n",
    "    img = cv2.imread(img)\n",
    "    img = cv2.resize(img, (IMG_SIZE,IMG_SIZE))\n",
    "    return img.reshape(1,IMG_SIZE,IMG_SIZE,3)"
   ]
  },
  {
   "cell_type": "code",
   "execution_count": 39,
   "metadata": {},
   "outputs": [
    {
     "name": "stdout",
     "output_type": "stream",
     "text": [
      "[[1. 0. 0. 0. 0.]]\n",
      "['drawings', 'engraving', 'iconography', 'painting', 'sculpture']\n"
     ]
    }
   ],
   "source": [
    "print(model.predict(tratar_img('desenho.jpg')))\n",
    "\n",
    "print(labels)"
   ]
  }
 ],
 "metadata": {
  "kernelspec": {
   "display_name": "Python [conda env:tensorflow]",
   "language": "python",
   "name": "conda-env-tensorflow-py"
  },
  "language_info": {
   "codemirror_mode": {
    "name": "ipython",
    "version": 3
   },
   "file_extension": ".py",
   "mimetype": "text/x-python",
   "name": "python",
   "nbconvert_exporter": "python",
   "pygments_lexer": "ipython3",
   "version": "3.6.7"
  }
 },
 "nbformat": 4,
 "nbformat_minor": 2
}
