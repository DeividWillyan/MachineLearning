{
 "cells": [
  {
   "cell_type": "code",
   "execution_count": 1,
   "metadata": {},
   "outputs": [],
   "source": [
    "import pandas as pd\n",
    "import matplotlib.pyplot as plt\n",
    "import seaborn as sns\n",
    "from wordcloud import WordCloud\n",
    "from nltk.corpus import stopwords\n",
    "from sklearn.feature_extraction.text import CountVectorizer\n",
    "from sklearn.model_selection import train_test_split\n",
    "from sklearn.naive_bayes import MultinomialNB\n",
    "from sklearn.metrics import accuracy_score\n",
    "from sklearn.feature_extraction.text import TfidfTransformer\n",
    "from sklearn.pipeline import Pipeline\n",
    "from sklearn.model_selection import GridSearchCV\n",
    "\n",
    "%matplotlib inline"
   ]
  },
  {
   "cell_type": "code",
   "execution_count": 2,
   "metadata": {},
   "outputs": [
    {
     "data": {
      "text/html": [
       "<div>\n",
       "<style>\n",
       "    .dataframe thead tr:only-child th {\n",
       "        text-align: right;\n",
       "    }\n",
       "\n",
       "    .dataframe thead th {\n",
       "        text-align: left;\n",
       "    }\n",
       "\n",
       "    .dataframe tbody tr th {\n",
       "        vertical-align: top;\n",
       "    }\n",
       "</style>\n",
       "<table border=\"1\" class=\"dataframe\">\n",
       "  <thead>\n",
       "    <tr style=\"text-align: right;\">\n",
       "      <th></th>\n",
       "      <th>title</th>\n",
       "      <th>text</th>\n",
       "      <th>date</th>\n",
       "      <th>category</th>\n",
       "      <th>subcategory</th>\n",
       "      <th>link</th>\n",
       "    </tr>\n",
       "  </thead>\n",
       "  <tbody>\n",
       "    <tr>\n",
       "      <th>0</th>\n",
       "      <td>Lula diz que está 'lascado', mas que ainda tem...</td>\n",
       "      <td>Com a possibilidade de uma condenação impedir ...</td>\n",
       "      <td>2017-09-10</td>\n",
       "      <td>poder</td>\n",
       "      <td>NaN</td>\n",
       "      <td>http://www1.folha.uol.com.br/poder/2017/10/192...</td>\n",
       "    </tr>\n",
       "    <tr>\n",
       "      <th>1</th>\n",
       "      <td>'Decidi ser escrava das mulheres que sofrem', ...</td>\n",
       "      <td>Para Oumou Sangaré, cantora e ativista malines...</td>\n",
       "      <td>2017-09-10</td>\n",
       "      <td>ilustrada</td>\n",
       "      <td>NaN</td>\n",
       "      <td>http://www1.folha.uol.com.br/ilustrada/2017/10...</td>\n",
       "    </tr>\n",
       "    <tr>\n",
       "      <th>2</th>\n",
       "      <td>Três reportagens da Folha ganham Prêmio Petrob...</td>\n",
       "      <td>Três reportagens da Folha foram vencedoras do ...</td>\n",
       "      <td>2017-09-10</td>\n",
       "      <td>poder</td>\n",
       "      <td>NaN</td>\n",
       "      <td>http://www1.folha.uol.com.br/poder/2017/10/192...</td>\n",
       "    </tr>\n",
       "  </tbody>\n",
       "</table>\n",
       "</div>"
      ],
      "text/plain": [
       "                                               title  \\\n",
       "0  Lula diz que está 'lascado', mas que ainda tem...   \n",
       "1  'Decidi ser escrava das mulheres que sofrem', ...   \n",
       "2  Três reportagens da Folha ganham Prêmio Petrob...   \n",
       "\n",
       "                                                text        date   category  \\\n",
       "0  Com a possibilidade de uma condenação impedir ...  2017-09-10      poder   \n",
       "1  Para Oumou Sangaré, cantora e ativista malines...  2017-09-10  ilustrada   \n",
       "2  Três reportagens da Folha foram vencedoras do ...  2017-09-10      poder   \n",
       "\n",
       "  subcategory                                               link  \n",
       "0         NaN  http://www1.folha.uol.com.br/poder/2017/10/192...  \n",
       "1         NaN  http://www1.folha.uol.com.br/ilustrada/2017/10...  \n",
       "2         NaN  http://www1.folha.uol.com.br/poder/2017/10/192...  "
      ]
     },
     "execution_count": 2,
     "metadata": {},
     "output_type": "execute_result"
    }
   ],
   "source": [
    "df = pd.read_csv('articles.csv')\n",
    "df.head(3)"
   ]
  },
  {
   "cell_type": "code",
   "execution_count": 3,
   "metadata": {},
   "outputs": [
    {
     "data": {
      "text/html": [
       "<div>\n",
       "<style>\n",
       "    .dataframe thead tr:only-child th {\n",
       "        text-align: right;\n",
       "    }\n",
       "\n",
       "    .dataframe thead th {\n",
       "        text-align: left;\n",
       "    }\n",
       "\n",
       "    .dataframe tbody tr th {\n",
       "        vertical-align: top;\n",
       "    }\n",
       "</style>\n",
       "<table border=\"1\" class=\"dataframe\">\n",
       "  <thead>\n",
       "    <tr style=\"text-align: right;\">\n",
       "      <th></th>\n",
       "      <th>title</th>\n",
       "      <th>text</th>\n",
       "      <th>date</th>\n",
       "      <th>category</th>\n",
       "      <th>link</th>\n",
       "    </tr>\n",
       "  </thead>\n",
       "  <tbody>\n",
       "    <tr>\n",
       "      <th>count</th>\n",
       "      <td>167053</td>\n",
       "      <td>166288</td>\n",
       "      <td>167053</td>\n",
       "      <td>167053</td>\n",
       "      <td>167053</td>\n",
       "    </tr>\n",
       "    <tr>\n",
       "      <th>unique</th>\n",
       "      <td>164119</td>\n",
       "      <td>165901</td>\n",
       "      <td>987</td>\n",
       "      <td>48</td>\n",
       "      <td>167053</td>\n",
       "    </tr>\n",
       "    <tr>\n",
       "      <th>top</th>\n",
       "      <td>Quadrinhos</td>\n",
       "      <td>Toda segunda-feira, \"Tec\" divulga os mais lega...</td>\n",
       "      <td>2015-03-15</td>\n",
       "      <td>poder</td>\n",
       "      <td>http://www1.folha.uol.com.br/mercado/2015/04/1...</td>\n",
       "    </tr>\n",
       "    <tr>\n",
       "      <th>freq</th>\n",
       "      <td>627</td>\n",
       "      <td>25</td>\n",
       "      <td>285</td>\n",
       "      <td>22022</td>\n",
       "      <td>1</td>\n",
       "    </tr>\n",
       "  </tbody>\n",
       "</table>\n",
       "</div>"
      ],
      "text/plain": [
       "             title                                               text  \\\n",
       "count       167053                                             166288   \n",
       "unique      164119                                             165901   \n",
       "top     Quadrinhos  Toda segunda-feira, \"Tec\" divulga os mais lega...   \n",
       "freq           627                                                 25   \n",
       "\n",
       "              date category                                               link  \n",
       "count       167053   167053                                             167053  \n",
       "unique         987       48                                             167053  \n",
       "top     2015-03-15    poder  http://www1.folha.uol.com.br/mercado/2015/04/1...  \n",
       "freq           285    22022                                                  1  "
      ]
     },
     "execution_count": 3,
     "metadata": {},
     "output_type": "execute_result"
    }
   ],
   "source": [
    "# Começando a tratar os dados\n",
    "\n",
    "df = df.drop('subcategory', axis=1)\n",
    "df.describe()"
   ]
  },
  {
   "cell_type": "code",
   "execution_count": 4,
   "metadata": {
    "scrolled": false
   },
   "outputs": [
    {
     "data": {
      "image/png": "[encoded data removed]",
      "text/plain": [
       "<matplotlib.figure.Figure at 0x55c6eb8>"
      ]
     },
     "metadata": {
      "needs_background": "light"
     },
     "output_type": "display_data"
    }
   ],
   "source": [
    "plt.figure(figsize=(8,10))\n",
    "\n",
    "descending_order = df['category'].value_counts().sort_values(ascending=False).index\n",
    "\n",
    "sns.countplot(\n",
    "    y=df.category, \n",
    "    order=descending_order, \n",
    "    orient=\"v\")\n",
    "\n",
    "plt.yticks(fontsize=12)\n",
    "plt.xticks(fontsize=10)\n",
    "plt.show()"
   ]
  },
  {
   "cell_type": "code",
   "execution_count": 5,
   "metadata": {
    "scrolled": false
   },
   "outputs": [
    {
     "data": {
      "image/png": "[encoded data removed]",
      "text/plain": [
       "<matplotlib.figure.Figure at 0x32483908>"
      ]
     },
     "metadata": {
      "needs_background": "light"
     },
     "output_type": "display_data"
    }
   ],
   "source": [
    "# Remover todas as categorias que tenham menos de 150 amostras.\n",
    "category = df.groupby('category')['category'].count().sort_values(ascending=False)\n",
    "category = category[category < 150]\n",
    "\n",
    "for i in category.index:\n",
    "    df = df[df.category != i]\n",
    "    \n",
    "\n",
    "# Plotando o grafico com as categorias x frequencia\n",
    "plt.figure(figsize=(7,7))\n",
    "\n",
    "descending_order = df['category'].value_counts().sort_values(ascending=False).index\n",
    "\n",
    "sns.countplot(\n",
    "    y=df.category, \n",
    "    order=descending_order, \n",
    "    orient=\"v\")\n",
    "\n",
    "plt.yticks(fontsize=12)\n",
    "plt.xticks(fontsize=10)\n",
    "plt.show()"
   ]
  },
  {
   "cell_type": "code",
   "execution_count": 6,
   "metadata": {},
   "outputs": [
    {
     "name": "stdout",
     "output_type": "stream",
     "text": [
      "0    Com possibilidade condenacao impedir candidatu...\n",
      "1    Para Oumou Sangare cantora ativista malinesa s...\n",
      "2    Tres reportagens Folha vencedoras Premio Petro...\n",
      "3    A Disney divulgou noite desta segunda feira no...\n",
      "4    O CBSS banco holding Elopar socios Bradesco Ba...\n",
      "5    O vocalista banda irlandesa U Bono fez pergunt...\n",
      "6    O italiano Cesare Battisti disse nesta segunda...\n",
      "7    Pela primeira vez desde assumiu comando seleca...\n",
      "8    O STF Supremo Tribunal Federal negou quinta fe...\n",
      "9    O aplicativo mensagens instantaneas WhatsApp d...\n",
      "Name: text, dtype: object\n"
     ]
    }
   ],
   "source": [
    "#tratamento do texto\n",
    "\n",
    "import re\n",
    "from unicodedata import normalize\n",
    "\n",
    "def remover_acentos(txt, codif='utf-8'):\n",
    "    return normalize('NFKD', txt.decode(codif)).encode('ASCII', 'ignore')\n",
    "\n",
    "def remover_numeros(txt):\n",
    "    return re.sub('[0-9]', '', txt)\n",
    "\n",
    "def remover_caracteres_especiais(txt):\n",
    "    return re.sub('\\W+',' ', txt )\n",
    "\n",
    "def remover_stopwords(txt):\n",
    "    sw = stopwords.words('portuguese')\n",
    "    for i in sw:\n",
    "        txt = txt.replace(' '+ i + ' ', ' ')\n",
    "    return txt\n",
    "    \n",
    "def tratar_tudo(txt):\n",
    "    txt = remover_acentos(txt)\n",
    "    txt = remover_numeros(txt)\n",
    "    txt = remover_caracteres_especiais(txt)\n",
    "    txt = remover_stopwords(txt)\n",
    "    return txt\n",
    "\n",
    "df.text = df.text.apply(lambda x: tratar_tudo(str(x)))\n",
    "\n",
    "print(df.text[:10])"
   ]
  },
  {
   "cell_type": "code",
   "execution_count": 7,
   "metadata": {},
   "outputs": [
    {
     "data": {
      "text/html": [
       "<div>\n",
       "<style>\n",
       "    .dataframe thead tr:only-child th {\n",
       "        text-align: right;\n",
       "    }\n",
       "\n",
       "    .dataframe thead th {\n",
       "        text-align: left;\n",
       "    }\n",
       "\n",
       "    .dataframe tbody tr th {\n",
       "        vertical-align: top;\n",
       "    }\n",
       "</style>\n",
       "<table border=\"1\" class=\"dataframe\">\n",
       "  <thead>\n",
       "    <tr style=\"text-align: right;\">\n",
       "      <th></th>\n",
       "      <th>title</th>\n",
       "      <th>text</th>\n",
       "      <th>date</th>\n",
       "      <th>category</th>\n",
       "      <th>link</th>\n",
       "    </tr>\n",
       "  </thead>\n",
       "  <tbody>\n",
       "    <tr>\n",
       "      <th>0</th>\n",
       "      <td>Lula diz que está 'lascado', mas que ainda tem...</td>\n",
       "      <td>Com possibilidade condenacao impedir candidatu...</td>\n",
       "      <td>2017-09-10</td>\n",
       "      <td>poder</td>\n",
       "      <td>http://www1.folha.uol.com.br/poder/2017/10/192...</td>\n",
       "    </tr>\n",
       "    <tr>\n",
       "      <th>1</th>\n",
       "      <td>'Decidi ser escrava das mulheres que sofrem', ...</td>\n",
       "      <td>Para Oumou Sangare cantora ativista malinesa s...</td>\n",
       "      <td>2017-09-10</td>\n",
       "      <td>ilustrada</td>\n",
       "      <td>http://www1.folha.uol.com.br/ilustrada/2017/10...</td>\n",
       "    </tr>\n",
       "    <tr>\n",
       "      <th>2</th>\n",
       "      <td>Três reportagens da Folha ganham Prêmio Petrob...</td>\n",
       "      <td>Tres reportagens Folha vencedoras Premio Petro...</td>\n",
       "      <td>2017-09-10</td>\n",
       "      <td>poder</td>\n",
       "      <td>http://www1.folha.uol.com.br/poder/2017/10/192...</td>\n",
       "    </tr>\n",
       "    <tr>\n",
       "      <th>3</th>\n",
       "      <td>Filme 'Star Wars: Os Últimos Jedi' ganha trail...</td>\n",
       "      <td>A Disney divulgou noite desta segunda feira no...</td>\n",
       "      <td>2017-09-10</td>\n",
       "      <td>ilustrada</td>\n",
       "      <td>http://www1.folha.uol.com.br/ilustrada/2017/10...</td>\n",
       "    </tr>\n",
       "    <tr>\n",
       "      <th>4</th>\n",
       "      <td>CBSS inicia acordos com fintechs e quer 30% do...</td>\n",
       "      <td>O CBSS banco holding Elopar socios Bradesco Ba...</td>\n",
       "      <td>2017-09-10</td>\n",
       "      <td>mercado</td>\n",
       "      <td>http://www1.folha.uol.com.br/mercado/2017/10/1...</td>\n",
       "    </tr>\n",
       "  </tbody>\n",
       "</table>\n",
       "</div>"
      ],
      "text/plain": [
       "                                               title  \\\n",
       "0  Lula diz que está 'lascado', mas que ainda tem...   \n",
       "1  'Decidi ser escrava das mulheres que sofrem', ...   \n",
       "2  Três reportagens da Folha ganham Prêmio Petrob...   \n",
       "3  Filme 'Star Wars: Os Últimos Jedi' ganha trail...   \n",
       "4  CBSS inicia acordos com fintechs e quer 30% do...   \n",
       "\n",
       "                                                text        date   category  \\\n",
       "0  Com possibilidade condenacao impedir candidatu...  2017-09-10      poder   \n",
       "1  Para Oumou Sangare cantora ativista malinesa s...  2017-09-10  ilustrada   \n",
       "2  Tres reportagens Folha vencedoras Premio Petro...  2017-09-10      poder   \n",
       "3  A Disney divulgou noite desta segunda feira no...  2017-09-10  ilustrada   \n",
       "4  O CBSS banco holding Elopar socios Bradesco Ba...  2017-09-10    mercado   \n",
       "\n",
       "                                                link  \n",
       "0  http://www1.folha.uol.com.br/poder/2017/10/192...  \n",
       "1  http://www1.folha.uol.com.br/ilustrada/2017/10...  \n",
       "2  http://www1.folha.uol.com.br/poder/2017/10/192...  \n",
       "3  http://www1.folha.uol.com.br/ilustrada/2017/10...  \n",
       "4  http://www1.folha.uol.com.br/mercado/2017/10/1...  "
      ]
     },
     "execution_count": 7,
     "metadata": {},
     "output_type": "execute_result"
    }
   ],
   "source": [
    "# Verificando como ficou\n",
    "df.head(5)"
   ]
  },
  {
   "cell_type": "code",
   "execution_count": 8,
   "metadata": {},
   "outputs": [
    {
     "name": "stdout",
     "output_type": "stream",
     "text": [
      "0         com possibilidade condenacao impedir candidatu...\n",
      "1         para oumou sangare cantora ativista malinesa s...\n",
      "2         tres reportagens folha vencedoras premio petro...\n",
      "3         a disney divulgou noite desta segunda feira no...\n",
      "4         o cbss banco holding elopar socios bradesco ba...\n",
      "5         o vocalista banda irlandesa u bono fez pergunt...\n",
      "6         o italiano cesare battisti disse nesta segunda...\n",
      "7         pela primeira vez desde assumiu comando seleca...\n",
      "8         o stf supr\n"
     ]
    }
   ],
   "source": [
    "df.text = df.text.str.lower()\n",
    "text = ''.join(str(df.text))\n",
    "\n",
    "print(text[:500])"
   ]
  },
  {
   "cell_type": "code",
   "execution_count": 9,
   "metadata": {},
   "outputs": [
    {
     "data": {
      "image/png": "[encoded data removed]",
      "text/plain": [
       "<matplotlib.figure.Figure at 0x334fccc0>"
      ]
     },
     "metadata": {},
     "output_type": "display_data"
    }
   ],
   "source": [
    "wordcloud = WordCloud(\n",
    "    width=2500, \n",
    "    height=1250,\n",
    "    max_words=100, \n",
    "    normalize_plurals= True\n",
    ")\n",
    "wordcloud.generate(text)\n",
    "plt.figure(figsize=(8,5),facecolor='k')\n",
    "plt.imshow(wordcloud)\n",
    "plt.axis(\"off\")\n",
    "plt.tight_layout(pad=0)\n",
    "plt.show()"
   ]
  },
  {
   "cell_type": "code",
   "execution_count": 10,
   "metadata": {},
   "outputs": [],
   "source": [
    "df.dropna() #remove as linhas que está faltando algum item (NaN)\n",
    "X_train, X_test, y_train, y_test = train_test_split(df.text.fillna(' '), df.category)"
   ]
  },
  {
   "cell_type": "code",
   "execution_count": 11,
   "metadata": {},
   "outputs": [],
   "source": [
    "vectorizer = CountVectorizer()\n",
    "\n",
    "training_data = vectorizer.fit_transform(X_train)\n",
    "testing_data = vectorizer.transform(X_test)"
   ]
  },
  {
   "cell_type": "code",
   "execution_count": 12,
   "metadata": {},
   "outputs": [],
   "source": [
    "naive_bayes = MultinomialNB()\n",
    "naive_bayes.fit(training_data, y_train)\n",
    "\n",
    "predictions = naive_bayes.predict(testing_data)"
   ]
  },
  {
   "cell_type": "code",
   "execution_count": 13,
   "metadata": {},
   "outputs": [
    {
     "name": "stdout",
     "output_type": "stream",
     "text": [
      "Accuracy score: 74.6%.\n"
     ]
    }
   ],
   "source": [
    "accuracy = accuracy_score(y_test, predictions)\n",
    "print('Accuracy score: {0:.1f}%.'.format(accuracy * 100))"
   ]
  },
  {
   "cell_type": "code",
   "execution_count": 14,
   "metadata": {},
   "outputs": [
    {
     "name": "stdout",
     "output_type": "stream",
     "text": [
      " -> Errado | Foi classificado como [poder], mas era [mercado]\n",
      " -> Errado | Foi classificado como [ilustrada], mas era [colunas]\n",
      "Certo | Foi classificado como [poder], mas era [poder]\n",
      "Certo | Foi classificado como [mundo], mas era [mundo]\n",
      "Certo | Foi classificado como [cotidiano], mas era [cotidiano]\n",
      "Certo | Foi classificado como [esporte], mas era [esporte]\n",
      "Certo | Foi classificado como [cotidiano], mas era [cotidiano]\n",
      "Certo | Foi classificado como [ilustrada], mas era [ilustrada]\n",
      "Certo | Foi classificado como [cotidiano], mas era [cotidiano]\n",
      " -> Errado | Foi classificado como [poder], mas era [mercado]\n"
     ]
    }
   ],
   "source": [
    "for foi, era in zip(predictions[20:30], y_test[20:30]):\n",
    "    print(\"%s | Foi classificado como [%s], mas era [%s]\" % (('Certo' if foi == era else ' -> Errado') ,foi, era))"
   ]
  },
  {
   "cell_type": "code",
   "execution_count": 15,
   "metadata": {},
   "outputs": [
    {
     "data": {
      "text/plain": [
       "Pipeline(memory=None,\n",
       "     steps=[('vect', CountVectorizer(analyzer=u'word', binary=True, decode_error=u'strict',\n",
       "        dtype=<type 'numpy.int64'>, encoding=u'utf-8', input=u'content',\n",
       "        lowercase=True, max_df=1.0, max_features=None, min_df=1,\n",
       "        ngram_range=(1, 1), preprocessor=None,\n",
       "        stop_words=[u'de', u...enizer=None, vocabulary=None)), ('clf', MultinomialNB(alpha=1.0, class_prior=None, fit_prior=True))])"
      ]
     },
     "execution_count": 15,
     "metadata": {},
     "output_type": "execute_result"
    }
   ],
   "source": [
    "# Criando um Pipeline - Classificador Composto\n",
    "# vectorizer => transformer => classifier \n",
    "text_clf = Pipeline([('vect', CountVectorizer(stop_words = stopwords.words('portuguese'), \n",
    "                                              binary = True)),\n",
    "                     ('clf', MultinomialNB()),])\n",
    "\n",
    "text_clf.fit(X_train, y_train)"
   ]
  },
  {
   "cell_type": "code",
   "execution_count": 16,
   "metadata": {},
   "outputs": [],
   "source": [
    "predictions2 = text_clf.predict(X_test)"
   ]
  },
  {
   "cell_type": "code",
   "execution_count": 17,
   "metadata": {},
   "outputs": [
    {
     "name": "stdout",
     "output_type": "stream",
     "text": [
      "Accuracy score: 72.7%.\n"
     ]
    }
   ],
   "source": [
    "accuracy2 = accuracy_score(y_test, predictions2)\n",
    "print('Accuracy score: {0:.1f}%.'.format(accuracy2 * 100))"
   ]
  },
  {
   "cell_type": "code",
   "execution_count": 18,
   "metadata": {},
   "outputs": [],
   "source": [
    "# Parâmetros para o GridSearchCV\n",
    "parameters = {'clf__alpha': [0.01,0.1,1]}\n",
    "\n",
    "# GridSearchCV\n",
    "gs_clf = GridSearchCV(text_clf, parameters, n_jobs = -1)"
   ]
  },
  {
   "cell_type": "code",
   "execution_count": 19,
   "metadata": {},
   "outputs": [],
   "source": [
    "#sa porra demora mto\n",
    "gs_clf = gs_clf.fit(X_train, y_train)"
   ]
  },
  {
   "cell_type": "code",
   "execution_count": 20,
   "metadata": {},
   "outputs": [],
   "source": [
    "best_clf = gs_clf.best_estimator_\n",
    "best_predict = best_clf.predict(X_test)"
   ]
  },
  {
   "cell_type": "code",
   "execution_count": 21,
   "metadata": {},
   "outputs": [
    {
     "name": "stdout",
     "output_type": "stream",
     "text": [
      "Accuracy score: 75.4%.\n",
      "Best Parans {'clf__alpha': 0.01}\n"
     ]
    }
   ],
   "source": [
    "accuracy3 = accuracy_score(y_test, best_predict)\n",
    "print('Accuracy score: {0:.1f}%.'.format(accuracy3 * 100))\n",
    "print('Best Parans ' + str(gs_clf.best_params_))"
   ]
  },
  {
   "cell_type": "code",
   "execution_count": 22,
   "metadata": {},
   "outputs": [
    {
     "data": {
      "text/html": [
       "<div>\n",
       "<style>\n",
       "    .dataframe thead tr:only-child th {\n",
       "        text-align: right;\n",
       "    }\n",
       "\n",
       "    .dataframe thead th {\n",
       "        text-align: left;\n",
       "    }\n",
       "\n",
       "    .dataframe tbody tr th {\n",
       "        vertical-align: top;\n",
       "    }\n",
       "</style>\n",
       "<table border=\"1\" class=\"dataframe\">\n",
       "  <thead>\n",
       "    <tr style=\"text-align: right;\">\n",
       "      <th></th>\n",
       "      <th>title</th>\n",
       "      <th>text</th>\n",
       "      <th>date</th>\n",
       "      <th>category</th>\n",
       "      <th>link</th>\n",
       "    </tr>\n",
       "  </thead>\n",
       "  <tbody>\n",
       "    <tr>\n",
       "      <th>0</th>\n",
       "      <td>Lula diz que está 'lascado', mas que ainda tem...</td>\n",
       "      <td>com possibilidade condenacao impedir candidatu...</td>\n",
       "      <td>2017-09-10</td>\n",
       "      <td>poder</td>\n",
       "      <td>http://www1.folha.uol.com.br/poder/2017/10/192...</td>\n",
       "    </tr>\n",
       "    <tr>\n",
       "      <th>1</th>\n",
       "      <td>'Decidi ser escrava das mulheres que sofrem', ...</td>\n",
       "      <td>para oumou sangare cantora ativista malinesa s...</td>\n",
       "      <td>2017-09-10</td>\n",
       "      <td>ilustrada</td>\n",
       "      <td>http://www1.folha.uol.com.br/ilustrada/2017/10...</td>\n",
       "    </tr>\n",
       "    <tr>\n",
       "      <th>2</th>\n",
       "      <td>Três reportagens da Folha ganham Prêmio Petrob...</td>\n",
       "      <td>tres reportagens folha vencedoras premio petro...</td>\n",
       "      <td>2017-09-10</td>\n",
       "      <td>poder</td>\n",
       "      <td>http://www1.folha.uol.com.br/poder/2017/10/192...</td>\n",
       "    </tr>\n",
       "    <tr>\n",
       "      <th>3</th>\n",
       "      <td>Filme 'Star Wars: Os Últimos Jedi' ganha trail...</td>\n",
       "      <td>a disney divulgou noite desta segunda feira no...</td>\n",
       "      <td>2017-09-10</td>\n",
       "      <td>ilustrada</td>\n",
       "      <td>http://www1.folha.uol.com.br/ilustrada/2017/10...</td>\n",
       "    </tr>\n",
       "    <tr>\n",
       "      <th>4</th>\n",
       "      <td>CBSS inicia acordos com fintechs e quer 30% do...</td>\n",
       "      <td>o cbss banco holding elopar socios bradesco ba...</td>\n",
       "      <td>2017-09-10</td>\n",
       "      <td>mercado</td>\n",
       "      <td>http://www1.folha.uol.com.br/mercado/2017/10/1...</td>\n",
       "    </tr>\n",
       "  </tbody>\n",
       "</table>\n",
       "</div>"
      ],
      "text/plain": [
       "                                               title  \\\n",
       "0  Lula diz que está 'lascado', mas que ainda tem...   \n",
       "1  'Decidi ser escrava das mulheres que sofrem', ...   \n",
       "2  Três reportagens da Folha ganham Prêmio Petrob...   \n",
       "3  Filme 'Star Wars: Os Últimos Jedi' ganha trail...   \n",
       "4  CBSS inicia acordos com fintechs e quer 30% do...   \n",
       "\n",
       "                                                text        date   category  \\\n",
       "0  com possibilidade condenacao impedir candidatu...  2017-09-10      poder   \n",
       "1  para oumou sangare cantora ativista malinesa s...  2017-09-10  ilustrada   \n",
       "2  tres reportagens folha vencedoras premio petro...  2017-09-10      poder   \n",
       "3  a disney divulgou noite desta segunda feira no...  2017-09-10  ilustrada   \n",
       "4  o cbss banco holding elopar socios bradesco ba...  2017-09-10    mercado   \n",
       "\n",
       "                                                link  \n",
       "0  http://www1.folha.uol.com.br/poder/2017/10/192...  \n",
       "1  http://www1.folha.uol.com.br/ilustrada/2017/10...  \n",
       "2  http://www1.folha.uol.com.br/poder/2017/10/192...  \n",
       "3  http://www1.folha.uol.com.br/ilustrada/2017/10...  \n",
       "4  http://www1.folha.uol.com.br/mercado/2017/10/1...  "
      ]
     },
     "execution_count": 22,
     "metadata": {},
     "output_type": "execute_result"
    }
   ],
   "source": [
    "df.head()"
   ]
  },
  {
   "cell_type": "code",
   "execution_count": 23,
   "metadata": {},
   "outputs": [
    {
     "data": {
      "text/plain": [
       "(124710, 278303)"
      ]
     },
     "execution_count": 23,
     "metadata": {},
     "output_type": "execute_result"
    }
   ],
   "source": [
    "# Tokenizing\n",
    "cv = CountVectorizer()\n",
    "X_train_counts = cv.fit_transform(X_train)\n",
    "X_train_counts.shape"
   ]
  },
  {
   "cell_type": "code",
   "execution_count": 24,
   "metadata": {},
   "outputs": [
    {
     "data": {
      "text/plain": [
       "(124710, 278303)"
      ]
     },
     "execution_count": 24,
     "metadata": {},
     "output_type": "execute_result"
    }
   ],
   "source": [
    "# Mesmo resultado da célula anterior, mas combinando as funções\n",
    "tt = TfidfTransformer()\n",
    "X_train_tfidf = tt.fit_transform(X_train_counts)\n",
    "X_train_tfidf.shape"
   ]
  },
  {
   "cell_type": "code",
   "execution_count": 25,
   "metadata": {},
   "outputs": [],
   "source": [
    "# Criando o modelo Multinomial\n",
    "clf = MultinomialNB(alpha=0.1).fit(X_train_tfidf, y_train)"
   ]
  },
  {
   "cell_type": "code",
   "execution_count": 26,
   "metadata": {},
   "outputs": [],
   "source": [
    "X_new_counts = cv.transform(X_test)\n",
    "X_new_tfidf = tt.transform(X_new_counts)\n",
    "\n",
    "pred = clf.predict(X_new_tfidf)"
   ]
  },
  {
   "cell_type": "code",
   "execution_count": 27,
   "metadata": {},
   "outputs": [
    {
     "name": "stdout",
     "output_type": "stream",
     "text": [
      "Accuracy score: 72.7%.\n"
     ]
    }
   ],
   "source": [
    "accuracy_final = accuracy_score(y_test, pred)\n",
    "print('Accuracy score: {0:.1f}%.'.format(accuracy_final * 100))"
   ]
  },
  {
   "cell_type": "code",
   "execution_count": 28,
   "metadata": {
    "scrolled": true
   },
   "outputs": [
    {
     "name": "stdout",
     "output_type": "stream",
     "text": [
      "Antes Coding:\n",
      "poder                    22022\n",
      "colunas                  21622\n",
      "mercado                  20970\n",
      "esporte                  19730\n",
      "mundo                    17130\n",
      "cotidiano                16967\n",
      "ilustrada                16345\n",
      "opiniao                   4525\n",
      "paineldoleitor            4011\n",
      "saopaulo                  3955\n",
      "tec                       2260\n",
      "tv                        2142\n",
      "educacao                  2118\n",
      "turismo                   1903\n",
      "ilustrissima              1411\n",
      "ciencia                   1335\n",
      "equilibrioesaude          1312\n",
      "sobretudo                 1057\n",
      "bbc                        980\n",
      "folhinha                   876\n",
      "empreendedorsocial         841\n",
      "comida                     828\n",
      "asmais                     548\n",
      "ambiente                   491\n",
      "seminariosfolha            379\n",
      "serafina                   334\n",
      "o-melhor-de-sao-paulo      189\n",
      "Name: category, dtype: int64\n",
      "\n",
      "Depois Coding:\n",
      "0     22022\n",
      "1     21622\n",
      "2     20970\n",
      "3     19730\n",
      "4     17130\n",
      "5     16967\n",
      "6     16345\n",
      "7      4525\n",
      "8      4011\n",
      "9      3955\n",
      "10     2260\n",
      "11     2142\n",
      "12     2118\n",
      "13     1903\n",
      "14     1411\n",
      "15     1335\n",
      "16     1312\n",
      "17     1057\n",
      "18      980\n",
      "19      876\n",
      "20      841\n",
      "21      828\n",
      "22      548\n",
      "23      491\n",
      "24      379\n",
      "25      334\n",
      "26      189\n",
      "Name: category, dtype: int64\n"
     ]
    }
   ],
   "source": [
    "qtd_categorias_total = df.category.size\n",
    "\n",
    "dic = []\n",
    "dic = dict([ (j, i) for i,j in zip(range(df['category'].value_counts().index.size), df['category'].value_counts().index) ])\n",
    "   \n",
    "#Define uma função genérica usando a função replace\n",
    "def coding(col, codeDict):\n",
    "    colCoded = pd.Series(col, copy=True)\n",
    "    for key, value in codeDict.items():\n",
    "        colCoded.replace(key, value, inplace=True)\n",
    "    return colCoded\n",
    " \n",
    "#Codificando:\n",
    "print('Antes Coding:')\n",
    "print(pd.value_counts(df[\"category\"]))\n",
    "df[\"category\"] = coding(df[\"category\"], dic)\n",
    "print('\\nDepois Coding:')\n",
    "print(pd.value_counts(df[\"category\"]))\n"
   ]
  },
  {
   "cell_type": "code",
   "execution_count": 29,
   "metadata": {
    "scrolled": true
   },
   "outputs": [
    {
     "data": {
      "text/html": [
       "<div>\n",
       "<style>\n",
       "    .dataframe thead tr:only-child th {\n",
       "        text-align: right;\n",
       "    }\n",
       "\n",
       "    .dataframe thead th {\n",
       "        text-align: left;\n",
       "    }\n",
       "\n",
       "    .dataframe tbody tr th {\n",
       "        vertical-align: top;\n",
       "    }\n",
       "</style>\n",
       "<table border=\"1\" class=\"dataframe\">\n",
       "  <thead>\n",
       "    <tr style=\"text-align: right;\">\n",
       "      <th></th>\n",
       "      <th>title</th>\n",
       "      <th>text</th>\n",
       "      <th>date</th>\n",
       "      <th>category</th>\n",
       "      <th>link</th>\n",
       "    </tr>\n",
       "  </thead>\n",
       "  <tbody>\n",
       "    <tr>\n",
       "      <th>0</th>\n",
       "      <td>Lula diz que está 'lascado', mas que ainda tem...</td>\n",
       "      <td>com possibilidade condenacao impedir candidatu...</td>\n",
       "      <td>2017-09-10</td>\n",
       "      <td>0</td>\n",
       "      <td>http://www1.folha.uol.com.br/poder/2017/10/192...</td>\n",
       "    </tr>\n",
       "    <tr>\n",
       "      <th>1</th>\n",
       "      <td>'Decidi ser escrava das mulheres que sofrem', ...</td>\n",
       "      <td>para oumou sangare cantora ativista malinesa s...</td>\n",
       "      <td>2017-09-10</td>\n",
       "      <td>6</td>\n",
       "      <td>http://www1.folha.uol.com.br/ilustrada/2017/10...</td>\n",
       "    </tr>\n",
       "    <tr>\n",
       "      <th>2</th>\n",
       "      <td>Três reportagens da Folha ganham Prêmio Petrob...</td>\n",
       "      <td>tres reportagens folha vencedoras premio petro...</td>\n",
       "      <td>2017-09-10</td>\n",
       "      <td>0</td>\n",
       "      <td>http://www1.folha.uol.com.br/poder/2017/10/192...</td>\n",
       "    </tr>\n",
       "    <tr>\n",
       "      <th>3</th>\n",
       "      <td>Filme 'Star Wars: Os Últimos Jedi' ganha trail...</td>\n",
       "      <td>a disney divulgou noite desta segunda feira no...</td>\n",
       "      <td>2017-09-10</td>\n",
       "      <td>6</td>\n",
       "      <td>http://www1.folha.uol.com.br/ilustrada/2017/10...</td>\n",
       "    </tr>\n",
       "    <tr>\n",
       "      <th>4</th>\n",
       "      <td>CBSS inicia acordos com fintechs e quer 30% do...</td>\n",
       "      <td>o cbss banco holding elopar socios bradesco ba...</td>\n",
       "      <td>2017-09-10</td>\n",
       "      <td>2</td>\n",
       "      <td>http://www1.folha.uol.com.br/mercado/2017/10/1...</td>\n",
       "    </tr>\n",
       "  </tbody>\n",
       "</table>\n",
       "</div>"
      ],
      "text/plain": [
       "                                               title  \\\n",
       "0  Lula diz que está 'lascado', mas que ainda tem...   \n",
       "1  'Decidi ser escrava das mulheres que sofrem', ...   \n",
       "2  Três reportagens da Folha ganham Prêmio Petrob...   \n",
       "3  Filme 'Star Wars: Os Últimos Jedi' ganha trail...   \n",
       "4  CBSS inicia acordos com fintechs e quer 30% do...   \n",
       "\n",
       "                                                text        date  category  \\\n",
       "0  com possibilidade condenacao impedir candidatu...  2017-09-10         0   \n",
       "1  para oumou sangare cantora ativista malinesa s...  2017-09-10         6   \n",
       "2  tres reportagens folha vencedoras premio petro...  2017-09-10         0   \n",
       "3  a disney divulgou noite desta segunda feira no...  2017-09-10         6   \n",
       "4  o cbss banco holding elopar socios bradesco ba...  2017-09-10         2   \n",
       "\n",
       "                                                link  \n",
       "0  http://www1.folha.uol.com.br/poder/2017/10/192...  \n",
       "1  http://www1.folha.uol.com.br/ilustrada/2017/10...  \n",
       "2  http://www1.folha.uol.com.br/poder/2017/10/192...  \n",
       "3  http://www1.folha.uol.com.br/ilustrada/2017/10...  \n",
       "4  http://www1.folha.uol.com.br/mercado/2017/10/1...  "
      ]
     },
     "execution_count": 29,
     "metadata": {},
     "output_type": "execute_result"
    }
   ],
   "source": [
    "df.head()"
   ]
  },
  {
   "cell_type": "code",
   "execution_count": 30,
   "metadata": {
    "scrolled": true
   },
   "outputs": [
    {
     "data": {
      "text/plain": [
       "<matplotlib.axes._subplots.AxesSubplot at 0x32d7b1d0>"
      ]
     },
     "execution_count": 30,
     "metadata": {},
     "output_type": "execute_result"
    },
    {
     "data": {
      "image/png": "[encoded data removed]",
      "text/plain": [
       "<matplotlib.figure.Figure at 0x334eb668>"
      ]
     },
     "metadata": {
      "needs_background": "light"
     },
     "output_type": "display_data"
    }
   ],
   "source": [
    "df[\"category\"].plot.hist(bins=df.category.value_counts().index.size, edgecolor='black')"
   ]
  },
  {
   "cell_type": "code",
   "execution_count": 31,
   "metadata": {},
   "outputs": [
    {
     "data": {
      "text/plain": [
       "MultinomialNB(alpha=0.01, class_prior=None, fit_prior=True)"
      ]
     },
     "execution_count": 31,
     "metadata": {},
     "output_type": "execute_result"
    }
   ],
   "source": [
    "X_treino, X_teste, y_treino, y_teste = train_test_split(df.text, df.category)\n",
    "\n",
    "#Matriz de Frequencia\n",
    "ContadorVetor = CountVectorizer()\n",
    "dados_de_treino = ContadorVetor.fit_transform(X_treino)\n",
    "dados_de_teste = ContadorVetor.transform(X_teste)\n",
    "\n",
    "# Normalização da Matriz de frequencia\n",
    "TFrequencia = TfidfTransformer(use_idf=True, norm='l2')\n",
    "dados_de_treino_frequenciado = TFrequencia.fit_transform(dados_de_treino)\n",
    "dados_de_teste_frequenciado = TFrequencia.fit(dados_de_teste)\n",
    "\n",
    "clf_final = MultinomialNB(alpha=0.01)\n",
    "clf_final.fit(dados_de_treino_frequenciado, y_treino)"
   ]
  },
  {
   "cell_type": "code",
   "execution_count": 32,
   "metadata": {},
   "outputs": [],
   "source": [
    "pred_final = clf_final.predict(dados_de_teste)"
   ]
  },
  {
   "cell_type": "code",
   "execution_count": 33,
   "metadata": {},
   "outputs": [
    {
     "name": "stdout",
     "output_type": "stream",
     "text": [
      "Accuracy score final: 76.1%.\n"
     ]
    }
   ],
   "source": [
    "ac_final = accuracy_score(y_teste, pred_final)\n",
    "print('Accuracy score final: {0:.1f}%.'.format(ac_final * 100))"
   ]
  },
  {
   "cell_type": "code",
   "execution_count": 35,
   "metadata": {},
   "outputs": [
    {
     "name": "stderr",
     "output_type": "stream",
     "text": [
      "C:\\Users\\dfabiano\\AppData\\Local\\Continuum\\anaconda2\\lib\\site-packages\\sklearn\\linear_model\\stochastic_gradient.py:84: FutureWarning: max_iter and tol parameters have been added in <class 'sklearn.linear_model.stochastic_gradient.SGDClassifier'> in 0.19. If both are left unset, they default to max_iter=5 and tol=None. If tol is not None, max_iter defaults to max_iter=1000. From 0.21, default max_iter will be 1000, and default tol will be 1e-3.\n",
      "  \"and default tol will be 1e-3.\" % type(self), FutureWarning)\n"
     ]
    },
    {
     "data": {
      "text/plain": [
       "SGDClassifier(alpha=0.0001, average=False, class_weight=None, epsilon=0.1,\n",
       "       eta0=0.0, fit_intercept=True, l1_ratio=0.15,\n",
       "       learning_rate='optimal', loss='hinge', max_iter=5, n_iter=None,\n",
       "       n_jobs=1, penalty='l2', power_t=0.5, random_state=None,\n",
       "       shuffle=True, tol=None, verbose=0, warm_start=False)"
      ]
     },
     "execution_count": 35,
     "metadata": {},
     "output_type": "execute_result"
    }
   ],
   "source": [
    "from sklearn.linear_model import SGDClassifier\n",
    "\n",
    "sgc_clf = SGDClassifier()\n",
    "sgc_clf.fit(dados_de_treino_frequenciado, y_treino)"
   ]
  },
  {
   "cell_type": "code",
   "execution_count": 36,
   "metadata": {},
   "outputs": [
    {
     "name": "stdout",
     "output_type": "stream",
     "text": [
      "Accuracy score final: 78.2%.\n"
     ]
    }
   ],
   "source": [
    "pred_sgc = sgc_clf.predict(dados_de_teste)\n",
    "\n",
    "ac_sgc = accuracy_score(y_teste, pred_sgc)\n",
    "print('Accuracy score final: {0:.1f}%.'.format(ac_sgc * 100))"
   ]
  },
  {
   "cell_type": "code",
   "execution_count": 62,
   "metadata": {},
   "outputs": [
    {
     "name": "stdout",
     "output_type": "stream",
     "text": [
      "Fitting 5 folds for each of 6 candidates, totalling 30 fits\n"
     ]
    },
    {
     "name": "stderr",
     "output_type": "stream",
     "text": [
      "[Parallel(n_jobs=-1)]: Done  30 out of  30 | elapsed:  5.8min finished\n"
     ]
    },
    {
     "data": {
      "text/plain": [
       "GridSearchCV(cv=5, error_score='raise',\n",
       "       estimator=SGDClassifier(alpha=0.0001, average=False, class_weight=None, epsilon=0.1,\n",
       "       eta0=0.0, fit_intercept=True, l1_ratio=0.15,\n",
       "       learning_rate='optimal', loss='hinge', max_iter=5, n_iter=None,\n",
       "       n_jobs=1, penalty='l2', power_t=0.5, random_state=None,\n",
       "       shuffle=True, tol=None, verbose=0, warm_start=False),\n",
       "       fit_params=None, iid=True, n_jobs=-1,\n",
       "       param_grid={'penalty': ('l2', 'elasticnet'), 'alpha': (1e-05, 1e-06, 1)},\n",
       "       pre_dispatch='2*n_jobs', refit=True, return_train_score=True,\n",
       "       scoring=None, verbose=1)"
      ]
     },
     "execution_count": 62,
     "metadata": {},
     "output_type": "execute_result"
    }
   ],
   "source": [
    "param = {\n",
    "    'alpha': (0.00001, 0.000001, 1),\n",
    "    'penalty': ('l2', 'elasticnet'),\n",
    "}\n",
    "\n",
    "grid_search = GridSearchCV(sgc_clf, param, cv=5, n_jobs=-1, verbose=1)\n",
    "grid_search.fit(dados_de_treino_frequenciado, y_treino)"
   ]
  },
  {
   "cell_type": "code",
   "execution_count": 63,
   "metadata": {},
   "outputs": [
    {
     "data": {
      "text/plain": [
       "{'alpha': 1e-05, 'penalty': 'l2'}"
      ]
     },
     "execution_count": 63,
     "metadata": {},
     "output_type": "execute_result"
    }
   ],
   "source": [
    "grid_search.best_params_"
   ]
  },
  {
   "cell_type": "code",
   "execution_count": 64,
   "metadata": {},
   "outputs": [
    {
     "data": {
      "text/plain": [
       "SGDClassifier(alpha=1e-05, average=False, class_weight=None, epsilon=0.1,\n",
       "       eta0=0.0, fit_intercept=True, l1_ratio=0.15,\n",
       "       learning_rate='optimal', loss='hinge', max_iter=5, n_iter=None,\n",
       "       n_jobs=1, penalty='l2', power_t=0.5, random_state=None,\n",
       "       shuffle=True, tol=None, verbose=0, warm_start=False)"
      ]
     },
     "execution_count": 64,
     "metadata": {},
     "output_type": "execute_result"
    }
   ],
   "source": [
    "sgd_clg_best = SGDClassifier(alpha=1e-05, penalty='l2')\n",
    "\n",
    "sgd_clg_best.fit(dados_de_treino_frequenciado, y_treino)"
   ]
  },
  {
   "cell_type": "code",
   "execution_count": 65,
   "metadata": {},
   "outputs": [
    {
     "name": "stdout",
     "output_type": "stream",
     "text": [
      "Accuracy score final: 81.7%.\n"
     ]
    }
   ],
   "source": [
    "pred_sgd_best = sgd_clg_best.predict(dados_de_teste)\n",
    "\n",
    "ac_sgd_best = accuracy_score(y_teste, pred_sgd_best)\n",
    "print('Accuracy score final: {0:.1f}%.'.format(ac_sgd_best * 100))"
   ]
  },
  {
   "cell_type": "code",
   "execution_count": null,
   "metadata": {},
   "outputs": [],
   "source": []
  }
 ],
 "metadata": {
  "kernelspec": {
   "display_name": "Python 2",
   "language": "python",
   "name": "python2"
  },
  "language_info": {
   "codemirror_mode": {
    "name": "ipython",
    "version": 2
   },
   "file_extension": ".py",
   "mimetype": "text/x-python",
   "name": "python",
   "nbconvert_exporter": "python",
   "pygments_lexer": "ipython2",
   "version": "2.7.15"
  }
 },
 "nbformat": 4,
 "nbformat_minor": 2
}
